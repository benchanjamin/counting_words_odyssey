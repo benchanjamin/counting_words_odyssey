{
 "cells": [
  {
   "cell_type": "markdown",
   "metadata": {},
   "source": [
    "# Counting Words of The Odyssey"
   ]
  },
  {
   "cell_type": "code",
   "execution_count": 1,
   "metadata": {
    "slideshow": {
     "slide_type": "slide"
    }
   },
   "outputs": [],
   "source": [
    "from pyspark import SparkContext\n",
    "from pyspark import SparkConf\n",
    "from pyspark.sql import SparkSession\n",
    "from pyspark import SparkFiles\n",
    "from pyspark.sql.functions import *\n",
    "\n",
    "%matplotlib inline\n",
    "import matplotlib.pyplot as plt\n",
    "import pandas as pd\n",
    "\n",
    "spark = SparkSession.builder.appName('Counting Words of The Odyssey').master(\"local[*]\").getOrCreate()"
   ]
  },
  {
   "cell_type": "code",
   "execution_count": 2,
   "metadata": {
    "slideshow": {
     "slide_type": "slide"
    }
   },
   "outputs": [
    {
     "data": {
      "text/html": [
       "\n",
       "        <div>\n",
       "            <p><b>SparkContext</b></p>\n",
       "\n",
       "            <p><a href=\"http://192.168.0.7:4041\">Spark UI</a></p>\n",
       "\n",
       "            <dl>\n",
       "              <dt>Version</dt>\n",
       "                <dd><code>v3.0.1</code></dd>\n",
       "              <dt>Master</dt>\n",
       "                <dd><code>local[*]</code></dd>\n",
       "              <dt>AppName</dt>\n",
       "                <dd><code>Counting Words of The Odyssey</code></dd>\n",
       "            </dl>\n",
       "        </div>\n",
       "        "
      ],
      "text/plain": [
       "<SparkContext master=local[*] appName=Counting Words of The Odyssey>"
      ]
     },
     "execution_count": 2,
     "metadata": {},
     "output_type": "execute_result"
    }
   ],
   "source": [
    "# 'local[*]' means that the SparkSession uses all possible threads on my computer\n",
    "spark.sparkContext"
   ]
  },
  {
   "cell_type": "code",
   "execution_count": 3,
   "metadata": {
    "slideshow": {
     "slide_type": "slide"
    }
   },
   "outputs": [
    {
     "name": "stdout",
     "output_type": "stream",
     "text": [
      "<class 'list'>\n",
      "['\\n', 'BOOK I\\n', '\\n', 'Tell me, O muse, of that ingenious hero who travelled far and wide\\n', 'after he had sacked the famous town of Troy. Many cities did he visit,\\n', 'and many were the nations with whose manners and customs he was acquainted;\\n', 'moreover he suffered much by sea while trying to save his own life\\n', 'and bring his men safely home; but do what he might he could not save\\n', 'his men, for they perished through their own sheer folly in eating\\n', 'the cattle of the Sun-god Hyperion; so the god prevented them from\\n']\n"
     ]
    }
   ],
   "source": [
    "# Retrieve the full text of The Odyssey from mit.edu\n",
    "url = \"http://classics.mit.edu/Homer/odyssey.mb.txt\"\n",
    "spark.sparkContext.addFile(url)\n",
    "\n",
    "odyssey_preprocess = ''\n",
    "\n",
    "with open(SparkFiles.get(\"odyssey.mb.txt\")) as f:\n",
    "    # removes header and footer ~11 lines each\n",
    "    odyssey_preprocess = f.readlines()[11:-11]\n",
    "    \n",
    "# Prints type --> which is list\n",
    "print(type(odyssey_preprocess))\n",
    "\n",
    "# Prints first 10 elements\n",
    "print(odyssey_preprocess[0:10])"
   ]
  },
  {
   "cell_type": "code",
   "execution_count": 4,
   "metadata": {
    "slideshow": {
     "slide_type": "slide"
    }
   },
   "outputs": [
    {
     "name": "stdout",
     "output_type": "stream",
     "text": [
      "\n",
      "BOOK I\n",
      "\n",
      "Tell me, O muse, of that ingenious hero who travelled far and wide\n",
      "after he had sacked the famous town of Troy. Many cities did he visit,\n",
      "and many were the nations with whose manners and customs he was acquainted;\n",
      "moreover he suffered much by sea while trying to save his own life\n",
      "and bring his men safely home; but do what he might he could not save\n",
      "his men, for they perished through their own sheer folly in eating\n",
      "the cattle of the Sun-god Hyperion; so the god prevented them from\n",
      "ever reaching home. Tell me, too, about all these things, O daughter\n",
      "of Jove, from whatsoever source you may know them. \n",
      "\n",
      "So now all who escaped death in battle or by shipwreck had got safely\n",
      "home except Ulysses, and he, though he was longing to return to his\n",
      "wife and country, was detained by the goddess Calypso, who had got\n",
      "him into a large cave and wanted to marry him. But as years went by,\n",
      "there came a time when the gods settled that he should go back to\n",
      "Ithaca; even then, however, when he was amon\n"
     ]
    }
   ],
   "source": [
    "# Uses list comprehension to extract each word from the list\n",
    "# Removes the '\\n' during the process\n",
    "odyssey_preprocess = ''.join([str(word) for word in odyssey_preprocess]) \n",
    "\n",
    "# Prints first 1000 characters\n",
    "print(odyssey_preprocess[0:1000])"
   ]
  },
  {
   "cell_type": "code",
   "execution_count": 5,
   "metadata": {
    "slideshow": {
     "slide_type": "slide"
    }
   },
   "outputs": [],
   "source": [
    "# Creates .txt file for the full text of The Odyssey\n",
    "text_file = open(\"odyssey.txt\", \"w\")\n",
    "text_file.write(str(odyssey_preprocess))\n",
    "# Closes to prevent overwriting it\n",
    "text_file.close()"
   ]
  },
  {
   "cell_type": "code",
   "execution_count": 6,
   "metadata": {
    "slideshow": {
     "slide_type": "slide"
    }
   },
   "outputs": [
    {
     "name": "stdout",
     "output_type": "stream",
     "text": [
      "<class 'pyspark.sql.dataframe.DataFrame'>\n",
      "+--------------------+\n",
      "|               value|\n",
      "+--------------------+\n",
      "|                    |\n",
      "|              BOOK I|\n",
      "|                    |\n",
      "|Tell me, O muse, ...|\n",
      "|after he had sack...|\n",
      "|and many were the...|\n",
      "|moreover he suffe...|\n",
      "|and bring his men...|\n",
      "|his men, for they...|\n",
      "|the cattle of the...|\n",
      "|ever reaching hom...|\n",
      "|of Jove, from wha...|\n",
      "|                    |\n",
      "|So now all who es...|\n",
      "|home except Ulyss...|\n",
      "|wife and country,...|\n",
      "|him into a large ...|\n",
      "|there came a time...|\n",
      "|Ithaca; even then...|\n",
      "|troubles were not...|\n",
      "+--------------------+\n",
      "only showing top 20 rows\n",
      "\n"
     ]
    }
   ],
   "source": [
    "# Reads the .txt file into a pyspark DataFrame\n",
    "odyssey = spark.read.text(\"odyssey.txt\")\n",
    "print(type(odyssey))\n",
    "odyssey.show()"
   ]
  },
  {
   "cell_type": "code",
   "execution_count": 7,
   "metadata": {
    "slideshow": {
     "slide_type": "slide"
    }
   },
   "outputs": [
    {
     "name": "stdout",
     "output_type": "stream",
     "text": [
      "+--------------------+\n",
      "|                line|\n",
      "+--------------------+\n",
      "|                  []|\n",
      "|           [BOOK, I]|\n",
      "|                  []|\n",
      "|[Tell, me,, O, mu...|\n",
      "|[after, he, had, ...|\n",
      "|[and, many, were,...|\n",
      "|[moreover, he, su...|\n",
      "|[and, bring, his,...|\n",
      "|[his, men,, for, ...|\n",
      "|[the, cattle, of,...|\n",
      "|[ever, reaching, ...|\n",
      "|[of, Jove,, from,...|\n",
      "|                  []|\n",
      "|[So, now, all, wh...|\n",
      "|[home, except, Ul...|\n",
      "|[wife, and, count...|\n",
      "|[him, into, a, la...|\n",
      "|[there, came, a, ...|\n",
      "|[Ithaca;, even, t...|\n",
      "|[troubles, were, ...|\n",
      "+--------------------+\n",
      "only showing top 20 rows\n",
      "\n"
     ]
    }
   ],
   "source": [
    "# Makes each line an array\n",
    "lines = odyssey.select(split(col(\"value\"), \" \").alias(\"line\"))\n",
    "lines.show()"
   ]
  },
  {
   "cell_type": "code",
   "execution_count": 8,
   "metadata": {
    "slideshow": {
     "slide_type": "slide"
    }
   },
   "outputs": [
    {
     "name": "stdout",
     "output_type": "stream",
     "text": [
      "+---------+\n",
      "|word     |\n",
      "+---------+\n",
      "|         |\n",
      "|BOOK     |\n",
      "|I        |\n",
      "|         |\n",
      "|Tell     |\n",
      "|me,      |\n",
      "|O        |\n",
      "|muse,    |\n",
      "|of       |\n",
      "|that     |\n",
      "|ingenious|\n",
      "|hero     |\n",
      "|who      |\n",
      "|travelled|\n",
      "|far      |\n",
      "|and      |\n",
      "|wide     |\n",
      "|after    |\n",
      "|he       |\n",
      "|had      |\n",
      "+---------+\n",
      "only showing top 20 rows\n",
      "\n"
     ]
    }
   ],
   "source": [
    "# Retrieves the words from each array and creates a line for each of the words\n",
    "words = lines.select(explode(col(\"line\")).alias(\"word\"))\n",
    "words.show(20, truncate=False)"
   ]
  },
  {
   "cell_type": "code",
   "execution_count": 9,
   "metadata": {
    "slideshow": {
     "slide_type": "slide"
    }
   },
   "outputs": [
    {
     "name": "stdout",
     "output_type": "stream",
     "text": [
      "+----------+\n",
      "|word_lower|\n",
      "+----------+\n",
      "|          |\n",
      "|      book|\n",
      "|         i|\n",
      "|          |\n",
      "|      tell|\n",
      "|       me,|\n",
      "|         o|\n",
      "|     muse,|\n",
      "|        of|\n",
      "|      that|\n",
      "| ingenious|\n",
      "|      hero|\n",
      "|       who|\n",
      "| travelled|\n",
      "|       far|\n",
      "|       and|\n",
      "|      wide|\n",
      "|     after|\n",
      "|        he|\n",
      "|       had|\n",
      "+----------+\n",
      "only showing top 20 rows\n",
      "\n"
     ]
    }
   ],
   "source": [
    "# Lowers the case of each word\n",
    "words_lower = words.select(lower(col(\"word\")).alias(\"word_lower\"))\n",
    "words_lower.show()"
   ]
  },
  {
   "cell_type": "code",
   "execution_count": 10,
   "metadata": {
    "slideshow": {
     "slide_type": "slide"
    }
   },
   "outputs": [
    {
     "name": "stdout",
     "output_type": "stream",
     "text": [
      "+---------+\n",
      "|     word|\n",
      "+---------+\n",
      "|         |\n",
      "|     book|\n",
      "|        i|\n",
      "|         |\n",
      "|     tell|\n",
      "|       me|\n",
      "|        o|\n",
      "|     muse|\n",
      "|       of|\n",
      "|     that|\n",
      "|ingenious|\n",
      "|     hero|\n",
      "|      who|\n",
      "|travelled|\n",
      "|      far|\n",
      "|      and|\n",
      "|     wide|\n",
      "|    after|\n",
      "|       he|\n",
      "|      had|\n",
      "+---------+\n",
      "only showing top 20 rows\n",
      "\n"
     ]
    }
   ],
   "source": [
    "# Removes all punctuation, quotation marks, and other symbols\n",
    "words_clean = words_lower.select(regexp_extract(col(\"word_lower\"), \"[a-z]*\", 0).alias(\"word\"))\n",
    "words_clean.show()"
   ]
  },
  {
   "cell_type": "code",
   "execution_count": 11,
   "metadata": {
    "slideshow": {
     "slide_type": "slide"
    }
   },
   "outputs": [
    {
     "name": "stdout",
     "output_type": "stream",
     "text": [
      "+---------+\n",
      "|     word|\n",
      "+---------+\n",
      "|     book|\n",
      "|        i|\n",
      "|     tell|\n",
      "|       me|\n",
      "|        o|\n",
      "|     muse|\n",
      "|       of|\n",
      "|     that|\n",
      "|ingenious|\n",
      "|     hero|\n",
      "|      who|\n",
      "|travelled|\n",
      "|      far|\n",
      "|      and|\n",
      "|     wide|\n",
      "|    after|\n",
      "|       he|\n",
      "|      had|\n",
      "|   sacked|\n",
      "|      the|\n",
      "+---------+\n",
      "only showing top 20 rows\n",
      "\n"
     ]
    }
   ],
   "source": [
    "# Removes records with empty strings ('')\n",
    "words_final = words_clean.select(\"*\").where(col(\"word\") != '')\n",
    "words_final.show()"
   ]
  },
  {
   "cell_type": "code",
   "execution_count": 12,
   "metadata": {
    "slideshow": {
     "slide_type": "slide"
    }
   },
   "outputs": [
    {
     "name": "stdout",
     "output_type": "stream",
     "text": [
      "+----------+-----+\n",
      "|      word|count|\n",
      "+----------+-----+\n",
      "|     still|  161|\n",
      "|   persist|    6|\n",
      "|      some|  258|\n",
      "|      hope|   35|\n",
      "|     those|   85|\n",
      "|    voyage|   34|\n",
      "|       few|    7|\n",
      "|likelihood|    1|\n",
      "|     spoil|    6|\n",
      "|  phrontis|    1|\n",
      "|    waters|   15|\n",
      "|    travel|    6|\n",
      "|     inner|   12|\n",
      "|   flashed|    1|\n",
      "|   embrace|   14|\n",
      "|   implore|    1|\n",
      "|       art|    4|\n",
      "|   pitcher|    1|\n",
      "|   blossom|    1|\n",
      "|   reviled|    3|\n",
      "+----------+-----+\n",
      "only showing top 20 rows\n",
      "\n"
     ]
    }
   ],
   "source": [
    "# Retrives the count for each of the words\n",
    "words_count = words_final.groupBy(col(\"word\")).count()\n",
    "words_count.show()"
   ]
  },
  {
   "cell_type": "code",
   "execution_count": 13,
   "metadata": {
    "slideshow": {
     "slide_type": "slide"
    }
   },
   "outputs": [
    {
     "name": "stdout",
     "output_type": "stream",
     "text": [
      "+----------+-----+\n",
      "|      word|count|\n",
      "+----------+-----+\n",
      "|       the| 5820|\n",
      "|       and| 4995|\n",
      "|        to| 3184|\n",
      "|        of| 3055|\n",
      "|       you| 1852|\n",
      "|        he| 1817|\n",
      "|         a| 1810|\n",
      "|         i| 1767|\n",
      "|        in| 1611|\n",
      "|       for| 1284|\n",
      "|       his| 1277|\n",
      "|        as| 1174|\n",
      "|      with| 1133|\n",
      "|        it| 1109|\n",
      "|      that| 1100|\n",
      "|       him| 1059|\n",
      "|       was|  947|\n",
      "|      they|  925|\n",
      "|        me|  904|\n",
      "|        on|  839|\n",
      "|       had|  839|\n",
      "|       all|  817|\n",
      "|       but|  794|\n",
      "|        my|  791|\n",
      "|        is|  777|\n",
      "|      have|  766|\n",
      "|      them|  759|\n",
      "|      will|  707|\n",
      "|       not|  689|\n",
      "|        so|  657|\n",
      "|       her|  636|\n",
      "|      your|  629|\n",
      "|      when|  615|\n",
      "|       she|  593|\n",
      "|       who|  589|\n",
      "|      this|  561|\n",
      "|   ulysses|  555|\n",
      "|       are|  553|\n",
      "|      from|  549|\n",
      "|      then|  532|\n",
      "|       one|  523|\n",
      "|        at|  518|\n",
      "|        we|  499|\n",
      "|        by|  479|\n",
      "|     their|  478|\n",
      "|      said|  478|\n",
      "|        be|  477|\n",
      "|      were|  472|\n",
      "|     house|  395|\n",
      "|     about|  389|\n",
      "|        or|  386|\n",
      "|     there|  376|\n",
      "|        do|  362|\n",
      "|       out|  346|\n",
      "|        no|  345|\n",
      "|       man|  333|\n",
      "|     which|  328|\n",
      "|     would|  320|\n",
      "|        up|  319|\n",
      "|       men|  316|\n",
      "|        us|  307|\n",
      "|       has|  303|\n",
      "|      went|  301|\n",
      "|        if|  283|\n",
      "|       own|  272|\n",
      "|      come|  271|\n",
      "|       son|  267|\n",
      "|        go|  265|\n",
      "|       now|  264|\n",
      "|       did|  261|\n",
      "|      what|  260|\n",
      "|      upon|  258|\n",
      "|      some|  258|\n",
      "|      tell|  258|\n",
      "|      into|  257|\n",
      "|      been|  255|\n",
      "|       can|  241|\n",
      "|telemachus|  239|\n",
      "|      home|  235|\n",
      "|       may|  235|\n",
      "|   suitors|  231|\n",
      "|      ship|  229|\n",
      "|      over|  229|\n",
      "|    father|  224|\n",
      "|       any|  214|\n",
      "|      here|  213|\n",
      "|      came|  209|\n",
      "|    should|  209|\n",
      "|       see|  207|\n",
      "|      down|  206|\n",
      "|     shall|  206|\n",
      "|       sea|  202|\n",
      "|        an|  201|\n",
      "|      much|  200|\n",
      "|      made|  198|\n",
      "|       our|  198|\n",
      "|       let|  198|\n",
      "|        am|  198|\n",
      "|     could|  195|\n",
      "|      back|  194|\n",
      "+----------+-----+\n",
      "only showing top 100 rows\n",
      "\n"
     ]
    }
   ],
   "source": [
    "# Order by desc. count of words\n",
    "words_desc_order_count = words_count.orderBy(\"count\", ascending=False)\n",
    "\n",
    "# Top 50 results are shown\n",
    "words_desc_order_count.show(100)"
   ]
  },
  {
   "cell_type": "code",
   "execution_count": 14,
   "metadata": {},
   "outputs": [],
   "source": [
    "# We can export the DataFrame as a .csv file but we have to change the number of partitions of our DF to 1 parition\n",
    "# to prevent from having 38 partitions of the .csv file\n",
    "words_desc_order_count.rdd.getNumPartitions()\n",
    "onePart = words_desc_order_count.repartition(1)\n",
    "onePart.write.csv('odyssey_word_count.csv')"
   ]
  },
  {
   "cell_type": "code",
   "execution_count": 15,
   "metadata": {},
   "outputs": [
    {
     "name": "stdout",
     "output_type": "stream",
     "text": [
      "<class 'pandas.core.frame.DataFrame'>\n"
     ]
    }
   ],
   "source": [
    "# Convert PySpark DataFrame to pandas DataFrame\n",
    "odyssey_pd = words_desc_order_count.toPandas()\n",
    "print(type(odyssey_pd))"
   ]
  },
  {
   "cell_type": "code",
   "execution_count": 16,
   "metadata": {},
   "outputs": [
    {
     "data": {
      "image/png": "[encoded data removed]",
      "text/plain": [
       "<Figure size 432x288 with 1 Axes>"
      ]
     },
     "metadata": {
      "needs_background": "light"
     },
     "output_type": "display_data"
    }
   ],
   "source": [
    "odyssey_pd_subset = odyssey_pd.iloc[:10]\n",
    "ax = odyssey_pd_subset.plot.bar(x='word', y='count', rot=0)\n",
    "plt.ylabel('frequency')\n",
    "plt.title('Frequency of the Most Common Words in The Odyssey')\n",
    "plt.show()"
   ]
  }
 ],
 "metadata": {
  "kernelspec": {
   "display_name": "Python 3",
   "language": "python",
   "name": "python3"
  },
  "language_info": {
   "codemirror_mode": {
    "name": "ipython",
    "version": 3
   },
   "file_extension": ".py",
   "mimetype": "text/x-python",
   "name": "python",
   "nbconvert_exporter": "python",
   "pygments_lexer": "ipython3",
   "version": "3.6.12"
  }
 },
 "nbformat": 4,
 "nbformat_minor": 4
}
